{
  "nbformat": 4,
  "nbformat_minor": 0,
  "metadata": {
    "colab": {
      "provenance": [],
      "authorship_tag": "ABX9TyMwdpmWYqSul2IPdPVLqZDG",
      "include_colab_link": true
    },
    "kernelspec": {
      "name": "python3",
      "display_name": "Python 3"
    },
    "language_info": {
      "name": "python"
    }
  },
  "cells": [
    {
      "cell_type": "markdown",
      "metadata": {
        "id": "view-in-github",
        "colab_type": "text"
      },
      "source": [
        "<a href=\"https://colab.research.google.com/github/vitorwmoutinho/Jogo_da_velha/blob/main/Jogo_da_velha.ipynb\" target=\"_parent\"><img src=\"https://colab.research.google.com/assets/colab-badge.svg\" alt=\"Open In Colab\"/></a>"
      ]
    },
    {
      "cell_type": "code",
      "execution_count": 2,
      "metadata": {
        "id": "-Bo6P3ebVJEz"
      },
      "outputs": [],
      "source": [
        "import random\n",
        "\n",
        "def display_board(board):\n",
        "    # A função exibe o estado atual do tabuleiro no console.\n",
        "    for row in board:\n",
        "      print(\"|\".join(row))\n",
        "      print(\"-----\")\n",
        "    print()\n",
        "\n",
        "def enter_move(board):\n",
        "  # A função aceita o estado atual do tabuleiro, solicita a jogada do usuário\n",
        "  # Verifica a entrada e atualiza o tabuleiro de acordo com a decisão do usuário\n",
        "  while True:\n",
        "    try:\n",
        "      move = int(input(\"Digite o número do quadrado para jogar (1-9): \"))\n",
        "      if 1 <= move <= 9 and isinstance (board[(move = 1) // 3] [(move - 1) % 3],\n",
        "          board[move - 1] // 3 [move - 1] % 3) = '0'\n",
        "          break\n",
        "      else:\n",
        "        print(\"Movimento inválido, tente novamente.\")\n",
        "\n",
        "    except ValueError:\n",
        "      print(\"Digite um número válido.\")\n",
        "def make_list_of_free_fields(board):\n",
        "  # A função percorre o tabuleiro e constrói uma lista de todos os quadrados livres\n",
        "  # A lista consiste em tuplas, enquanto cada tupla é par de números de linha e colunas\n",
        "  free_fields = [i, j] for i range(3) for j in range(3) if isinstance(board[i][j], int)\n",
        "  return free_fields\n",
        "\n"
      ]
    }
  ]
}