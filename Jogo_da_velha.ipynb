{
  "nbformat": 4,
  "nbformat_minor": 0,
  "metadata": {
    "colab": {
      "provenance": [],
      "authorship_tag": "ABX9TyMSEPTYUSFb8etqGEd4YtWC",
      "include_colab_link": true
    },
    "kernelspec": {
      "name": "python3",
      "display_name": "Python 3"
    },
    "language_info": {
      "name": "python"
    }
  },
  "cells": [
    {
      "cell_type": "markdown",
      "metadata": {
        "id": "view-in-github",
        "colab_type": "text"
      },
      "source": [
        "<a href=\"https://colab.research.google.com/github/vitorwmoutinho/Jogo_da_velha/blob/main/Jogo_da_velha.ipynb\" target=\"_parent\"><img src=\"https://colab.research.google.com/assets/colab-badge.svg\" alt=\"Open In Colab\"/></a>"
      ]
    },
    {
      "cell_type": "code",
      "execution_count": 8,
      "metadata": {
        "id": "-Bo6P3ebVJEz",
        "colab": {
          "base_uri": "https://localhost:8080/"
        },
        "outputId": "8fafd5e9-7671-4190-ad57-c4fc049ace90"
      },
      "outputs": [
        {
          "output_type": "stream",
          "name": "stdout",
          "text": [
            "1|2|3\n",
            "-----\n",
            "4|5|6\n",
            "-----\n",
            "7|8|9\n",
            "-----\n",
            "\n",
            "Digite o número do quadrado para jogar (1-9): 1\n",
            "O|2|3\n",
            "-----\n",
            "4|5|6\n",
            "-----\n",
            "7|8|9\n",
            "-----\n",
            "\n",
            "O|X|3\n",
            "-----\n",
            "4|5|6\n",
            "-----\n",
            "7|8|9\n",
            "-----\n",
            "\n"
          ]
        }
      ],
      "source": [
        "from ast import Return\n",
        "import random\n",
        "\n",
        "def display_board(board):\n",
        "    # A função exibe o estado atual do tabuleiro no console.\n",
        "    for row in board:\n",
        "        print(\"|\".join(map(str, row)))\n",
        "        print(\"-----\")\n",
        "    print()\n",
        "\n",
        "def enter_move(board):\n",
        "    # A função aceita o estado atual do tabuleiro, solicita a jogada do usuário,\n",
        "    # verifica a entrada e atualiza o tabuleiro de acordo com a decisão do usuário.\n",
        "    while True:\n",
        "        try:\n",
        "            move = int(input(\"Digite o número do quadrado para jogar (1-9): \"))\n",
        "            if 1 <= move <= 9 and isinstance(board[(move - 1) // 3][(move - 1) % 3], int):\n",
        "                board[(move - 1) // 3][(move - 1) % 3] = 'O'\n",
        "                break\n",
        "            else:\n",
        "                print(\"Movimento inválido. Tente novamente.\")\n",
        "        except ValueError:\n",
        "            print(\"Digite um número válido.\")\n",
        "\n",
        "def make_list_of_free_fields(board):\n",
        "    # A função percorre o tabuleiro e constrói uma lista de todos os quadrados livres;\n",
        "    # a lista consiste em tuplas, enquanto cada tupla é um par de números de linha e coluna.\n",
        "    free_fields = [(i, j) for i in range(3) for j in range(3) if isinstance(board[i][j], int)]\n",
        "    return free_fields\n",
        "\n",
        "def victory_for(board, sign):\n",
        "    # A função analisa o estado do tabuleiro para verificar se\n",
        "    # o jogador usando 'O' ou 'X' venceu o jogo.\n",
        "    for i in range(3):\n",
        "        if all(board[i][j] == sign for j in range(3)) or all(board[j][i] == sign for j in range(3)):\n",
        "            return True\n",
        "    if all(board[i][i] == sign for i in range(3)) or all(board[i][2 - i] == sign for i in range(3)):\n",
        "        return True\n",
        "    return False\n",
        "\n",
        "def draw_move(board):\n",
        "    # A função faz a jogada do computador e atualiza o tabuleiro.\n",
        "    free_fields = make_list_of_free_fields(board)\n",
        "    if free_fields:\n",
        "        move = random.choice(free_fields)\n",
        "        board[move[0]][move[1]] = 'X'\n",
        "    else:\n",
        "        print(\"Empate!\")\n",
        "\n",
        "# Exemplo de uso:\n",
        "board = [[1, 2, 3], [4, 5, 6], [7, 8, 9]]\n",
        "display_board(board)\n",
        "enter_move(board)\n",
        "display_board(board)\n",
        "draw_move(board)\n",
        "display_board(board)\n"
      ]
    }
  ]
}